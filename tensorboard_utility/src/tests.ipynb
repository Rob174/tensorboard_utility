{
 "cells": [
  {
   "cell_type": "code",
   "execution_count": 131,
   "metadata": {},
   "outputs": [],
   "source": [
    "import os\n",
    "from pathlib import Path\n",
    "import glob\n",
    "import tensorflow as tf\n",
    "from tensorflow.core.util import event_pb2\n",
    "from tensorboard.plugins.hparams import plugin_data_pb2\n",
    "import inspect"
   ]
  },
  {
   "cell_type": "code",
   "execution_count": 36,
   "metadata": {},
   "outputs": [],
   "source": [
    "os.chdir(r\"C:\\Users\\robin\\Documents\\projets\\pokemon_dataset\")"
   ]
  },
  {
   "cell_type": "code",
   "execution_count": 37,
   "metadata": {},
   "outputs": [],
   "source": [
    "# Get all the tensorboard files of all runs\n",
    "runs_folders = glob.glob(\"runs/*/\", recursive=False)\n",
    "run_folder = runs_folders[-1]\n",
    "# Choose the last run\n",
    "os.chdir(run_folder)"
   ]
  },
  {
   "cell_type": "code",
   "execution_count": 38,
   "metadata": {},
   "outputs": [],
   "source": [
    "events_files = glob.glob('**/*.v2',recursive=True)"
   ]
  },
  {
   "cell_type": "code",
   "execution_count": 39,
   "metadata": {},
   "outputs": [
    {
     "data": {
      "text/plain": [
       "['events.out.tfevents.1640250140.MSI.8052.2.v2',\n",
       " 'events.out.tfevents.1640250146.MSI.8052.3.v2',\n",
       " 'events.out.tfevents.1640251623.MSI.8052.6.v2',\n",
       " 'train\\\\events.out.tfevents.1640250140.MSI.8052.0.v2',\n",
       " 'train\\\\events.out.tfevents.1640250146.MSI.8052.4.v2',\n",
       " 'validation\\\\events.out.tfevents.1640250140.MSI.8052.1.v2',\n",
       " 'validation\\\\events.out.tfevents.1640250251.MSI.8052.5.v2']"
      ]
     },
     "execution_count": 39,
     "metadata": {},
     "output_type": "execute_result"
    }
   ],
   "source": [
    "events_files"
   ]
  },
  {
   "cell_type": "markdown",
   "metadata": {},
   "source": [
    "There are 3 categories of summaries : \n",
    "- metrics (scalar values) (x2 for tr val)\n",
    "- text infos on the run (x2 for tr val) : index 3\n",
    "- final_accuracy metric\n",
    "- hparams -> structure : index 0 ; values chosen : index 1 et 2"
   ]
  },
  {
   "cell_type": "markdown",
   "metadata": {},
   "source": [
    "### Metrics"
   ]
  },
  {
   "cell_type": "markdown",
   "metadata": {},
   "source": [
    "In train and valid folders:\n",
    "⚠️ contains keras graph\n",
    "\n",
    "accumulate in a buffer and compute intervals\n",
    "⚠️ infinity metrics : write inf in this case "
   ]
  },
  {
   "cell_type": "code",
   "execution_count": 60,
   "metadata": {},
   "outputs": [
    {
     "name": "stdout",
     "output_type": "stream",
     "text": [
      "keras b'{\"class_name\": \"Functional\", \"config\": {\"name\": \"model\", \"layers\": [{\"class_name\": \"InputLayer\", \"config\": {\"batch_input_shape\": [null, 256, 256, 3], \"dtype\": \"float32\", \"sparse\": false, \"ragged\": false, \"name\": \"input_1\"}, \"name\": \"input_1\", \"inbound_nodes\": []}, {\"class_name\": \"Conv2D\", \"config\": {\"name\": \"conv2d\", \"trainable\": true, \"dtype\": {\"class_name\": \"Policy\", \"config\": {\"name\": \"mixed_float16\"}, \"shared_object_id\": 4}, \"filters\": 3, \"kernel_size\": [3, 3], \"strides\": [1, 1], \"padding\": \"same\", \"data_format\": \"channels_last\", \"dilation_rate\": [1, 1], \"groups\": 1, \"activation\": \"linear\", \"use_bias\": true, \"kernel_initializer\": {\"class_name\": \"GlorotUniform\", \"config\": {\"seed\": null}}, \"bias_initializer\": {\"class_name\": \"Zeros\", \"config\": {}}, \"kernel_regularizer\": {\"class_name\": \"L1L2\", \"config\": {\"l1\": 9.99999993922529e-09, \"l2\": 9.99999993922529e-09}}, \"bias_regularizer\": null, \"activity_regularizer\": null, \"kernel_constraint\": null, \"bias_constraint\": null}, \"name\": \"conv2d\", \"inbound_nodes\": [[[\"input_1\", 0, 0, {}]]]}, {\"class_name\": \"Activation\", \"config\": {\"name\": \"activation\", \"trainable\": true, \"dtype\": {\"class_name\": \"Policy\", \"config\": {\"name\": \"mixed_float16\"}, \"shared_object_id\": 4}, \"activation\": \"relu\"}, \"name\": \"activation\", \"inbound_nodes\": [[[\"conv2d\", 0, 0, {}]]]}, {\"class_name\": \"Activation\", \"config\": {\"name\": \"activation_1\", \"trainable\": true, \"dtype\": {\"class_name\": \"Policy\", \"config\": {\"name\": \"mixed_float16\"}, \"shared_object_id\": 4}, \"activation\": \"relu\"}, \"name\": \"activation_1\", \"inbound_nodes\": [[[\"activation\", 0, 0, {}]]]}, {\"class_name\": \"SeparableConv2D\", \"config\": {\"name\": \"separable_conv2d\", \"trainable\": true, \"dtype\": {\"class_name\": \"Policy\", \"config\": {\"name\": \"mixed_float16\"}, \"shared_object_id\": 4}, \"filters\": 64, \"kernel_size\": [3, 3], \"strides\": [1, 1], \"padding\": \"same\", \"data_format\": \"channels_last\", \"dilation_rate\": [1, 1], \"groups\": 1, \"activation\": \"linear\", \"use_bias\": true, \"kernel_initializer\": {\"class_name\": \"GlorotUniform\", \"config\": {\"seed\": null}}, \"bias_initializer\": {\"class_name\": \"Zeros\", \"config\": {}, \"shared_object_id\": 10}, \"kernel_regularizer\": {\"class_name\": \"L1L2\", \"config\": {\"l1\": 9.99999993922529e-09, \"l2\": 9.99999993922529e-09}}, \"bias_regularizer\": null, \"activity_regularizer\": null, \"kernel_constraint\": null, \"bias_constraint\": null, \"depth_multiplier\": 1, \"depthwise_initializer\": {\"class_name\": \"GlorotUniform\", \"config\": {\"seed\": null}}, \"pointwise_initializer\": {\"class_name\": \"GlorotUniform\", \"config\": {\"seed\": null}}, \"depthwise_regularizer\": null, \"pointwise_regularizer\": null, \"depthwise_constraint\": null, \"pointwise_constraint\": null}, \"name\": \"separable_conv2d\", \"inbound_nodes\": [[[\"activation_1\", 0, 0, {}]]]}, {\"class_name\": \"Activation\", \"config\": {\"name\": \"activation_2\", \"trainable\": true, \"dtype\": {\"class_name\": \"Policy\", \"config\": {\"name\": \"mixed_float16\"}, \"shared_object_id\": 4}, \"activation\": \"relu\"}, \"name\": \"activation_2\", \"inbound_nodes\": [[[\"separable_conv2d\", 0, 0, {}]]]}, {\"class_name\": \"SeparableConv2D\", \"config\": {\"name\": \"separable_conv2d_1\", \"trainable\": true, \"dtype\": {\"class_name\": \"Policy\", \"config\": {\"name\": \"mixed_float16\"}, \"shared_object_id\": 4}, \"filters\": 64, \"kernel_size\": [3, 3], \"strides\": [1, 1], \"padding\": \"same\", \"data_format\": \"channels_last\", \"dilation_rate\": [1, 1], \"groups\": 1, \"activation\": \"linear\", \"use_bias\": true, \"kernel_initializer\": {\"class_name\": \"GlorotUniform\", \"config\": {\"seed\": null}}, \"bias_initializer\": {\"class_name\": \"Zeros\", \"config\": {}, \"shared_object_id\": 17}, \"kernel_regularizer\": {\"class_name\": \"L1L2\", \"config\": {\"l1\": 9.99999993922529e-09, \"l2\": 9.99999993922529e-09}}, \"bias_regularizer\": null, \"activity_regularizer\": null, \"kernel_constraint\": null, \"bias_constraint\": null, \"depth_multiplier\": 1, \"depthwise_initializer\": {\"class_name\": \"GlorotUniform\", \"config\": {\"seed\": null}}, \"pointwise_initializer\": {\"class_name\": \"GlorotUniform\", \"config\": {\"seed\": null}}, \"depthwise_regularizer\": null, \"pointwise_regularizer\": null, \"depthwise_constraint\": null, \"pointwise_constraint\": null}, \"name\": \"separable_conv2d_1\", \"inbound_nodes\": [[[\"activation_2\", 0, 0, {}]]]}, {\"class_name\": \"MaxPooling2D\", \"config\": {\"name\": \"max_pooling2d\", \"trainable\": true, \"dtype\": {\"class_name\": \"Policy\", \"config\": {\"name\": \"mixed_float16\"}, \"shared_object_id\": 4}, \"pool_size\": [3, 3], \"padding\": \"same\", \"strides\": [2, 2], \"data_format\": \"channels_last\"}, \"name\": \"max_pooling2d\", \"inbound_nodes\": [[[\"separable_conv2d_1\", 0, 0, {}]]]}, {\"class_name\": \"Conv2D\", \"config\": {\"name\": \"conv2d_1\", \"trainable\": true, \"dtype\": {\"class_name\": \"Policy\", \"config\": {\"name\": \"mixed_float16\"}, \"shared_object_id\": 4}, \"filters\": 64, \"kernel_size\": [1, 1], \"strides\": [2, 2], \"padding\": \"same\", \"data_format\": \"channels_last\", \"dilation_rate\": [1, 1], \"groups\": 1, \"activation\": \"linear\", \"use_bias\": true, \"kernel_initializer\": {\"class_name\": \"GlorotUniform\", \"config\": {\"seed\": null}}, \"bias_initializer\": {\"class_name\": \"Zeros\", \"config\": {}}, \"kernel_regularizer\": {\"class_name\": \"L1L2\", \"config\": {\"l1\": 9.99999993922529e-09, \"l2\": 9.99999993922529e-09}}, \"bias_regularizer\": null, \"activity_regularizer\": null, \"kernel_constraint\": null, \"bias_constraint\": null}, \"name\": \"conv2d_1\", \"inbound_nodes\": [[[\"activation\", 0, 0, {}]]]}, {\"class_name\": \"Add\", \"config\": {\"name\": \"add\", \"trainable\": true, \"dtype\": {\"class_name\": \"Policy\", \"config\": {\"name\": \"mixed_float16\"}, \"shared_object_id\": 4}}, \"name\": \"add\", \"inbound_nodes\": [[[\"max_pooling2d\", 0, 0, {}], [\"conv2d_1\", 0, 0, {}]]]}, {\"class_name\": \"Activation\", \"config\": {\"name\": \"activation_3\", \"trainable\": true, \"dtype\": {\"class_name\": \"Policy\", \"config\": {\"name\": \"mixed_float16\"}, \"shared_object_id\": 4}, \"activation\": \"relu\"}, \"name\": \"activation_3\", \"inbound_nodes\": [[[\"add\", 0, 0, {}]]]}, {\"class_name\": \"SeparableConv2D\", \"config\": {\"name\": \"separable_conv2d_2\", \"trainable\": true, \"dtype\": {\"class_name\": \"Policy\", \"config\": {\"name\": \"mixed_float16\"}, \"shared_object_id\": 4}, \"filters\": 128, \"kernel_size\": [3, 3], \"strides\": [1, 1], \"padding\": \"same\", \"data_format\": \"channels_last\", \"dilation_rate\": [1, 1], \"groups\": 1, \"activation\": \"linear\", \"use_bias\": true, \"kernel_initializer\": {\"class_name\": \"GlorotUniform\", \"config\": {\"seed\": null}}, \"bias_initializer\": {\"class_name\": \"Zeros\", \"config\": {}, \"shared_object_id\": 30}, \"kernel_regularizer\": {\"class_name\": \"L1L2\", \"config\": {\"l1\": 9.99999993922529e-09, \"l2\": 9.99999993922529e-09}}, \"bias_regularizer\": null, \"activity_regularizer\": null, \"kernel_constraint\": null, \"bias_constraint\": null, \"depth_multiplier\": 1, \"depthwise_initializer\": {\"class_name\": \"GlorotUniform\", \"config\": {\"seed\": null}}, \"pointwise_initializer\": {\"class_name\": \"GlorotUniform\", \"config\": {\"seed\": null}}, \"depthwise_regularizer\": null, \"pointwise_regularizer\": null, \"depthwise_constraint\": null, \"pointwise_constraint\": null}, \"name\": \"separable_conv2d_2\", \"inbound_nodes\": [[[\"activation_3\", 0, 0, {}]]]}, {\"class_name\": \"Activation\", \"config\": {\"name\": \"activation_4\", \"trainable\": true, \"dtype\": {\"class_name\": \"Policy\", \"config\": {\"name\": \"mixed_float16\"}, \"shared_object_id\": 4}, \"activation\": \"relu\"}, \"name\": \"activation_4\", \"inbound_nodes\": [[[\"separable_conv2d_2\", 0, 0, {}]]]}, {\"class_name\": \"SeparableConv2D\", \"config\": {\"name\": \"separable_conv2d_3\", \"trainable\": true, \"dtype\": {\"class_name\": \"Policy\", \"config\": {\"name\": \"mixed_float16\"}, \"shared_object_id\": 4}, \"filters\": 128, \"kernel_size\": [3, 3], \"strides\": [1, 1], \"padding\": \"same\", \"data_format\": \"channels_last\", \"dilation_rate\": [1, 1], \"groups\": 1, \"activation\": \"linear\", \"use_bias\": true, \"kernel_initializer\": {\"class_name\": \"GlorotUniform\", \"config\": {\"seed\": null}}, \"bias_initializer\": {\"class_name\": \"Zeros\", \"config\": {}, \"shared_object_id\": 37}, \"kernel_regularizer\": {\"class_name\": \"L1L2\", \"config\": {\"l1\": 9.99999993922529e-09, \"l2\": 9.99999993922529e-09}}, \"bias_regularizer\": null, \"activity_regularizer\": null, \"kernel_constraint\": null, \"bias_constraint\": null, \"depth_multiplier\": 1, \"depthwise_initializer\": {\"class_name\": \"GlorotUniform\", \"config\": {\"seed\": null}}, \"pointwise_initializer\": {\"class_name\": \"GlorotUniform\", \"config\": {\"seed\": null}}, \"depthwise_regularizer\": null, \"pointwise_regularizer\": null, \"depthwise_constraint\": null, \"pointwise_constraint\": null}, \"name\": \"separable_conv2d_3\", \"inbound_nodes\": [[[\"activation_4\", 0, 0, {}]]]}, {\"class_name\": \"MaxPooling2D\", \"config\": {\"name\": \"max_pooling2d_1\", \"trainable\": true, \"dtype\": {\"class_name\": \"Policy\", \"config\": {\"name\": \"mixed_float16\"}, \"shared_object_id\": 4}, \"pool_size\": [3, 3], \"padding\": \"same\", \"strides\": [2, 2], \"data_format\": \"channels_last\"}, \"name\": \"max_pooling2d_1\", \"inbound_nodes\": [[[\"separable_conv2d_3\", 0, 0, {}]]]}, {\"class_name\": \"Conv2D\", \"config\": {\"name\": \"conv2d_2\", \"trainable\": true, \"dtype\": {\"class_name\": \"Policy\", \"config\": {\"name\": \"mixed_float16\"}, \"shared_object_id\": 4}, \"filters\": 128, \"kernel_size\": [1, 1], \"strides\": [2, 2], \"padding\": \"same\", \"data_format\": \"channels_last\", \"dilation_rate\": [1, 1], \"groups\": 1, \"activation\": \"linear\", \"use_bias\": true, \"kernel_initializer\": {\"class_name\": \"GlorotUniform\", \"config\": {\"seed\": null}}, \"bias_initializer\": {\"class_name\": \"Zeros\", \"config\": {}}, \"kernel_regularizer\": {\"class_name\": \"L1L2\", \"config\": {\"l1\": 9.99999993922529e-09, \"l2\": 9.99999993922529e-09}}, \"bias_regularizer\": null, \"activity_regularizer\": null, \"kernel_constraint\": null, \"bias_constraint\": null}, \"name\": \"conv2d_2\", \"inbound_nodes\": [[[\"add\", 0, 0, {}]]]}, {\"class_name\": \"Add\", \"config\": {\"name\": \"add_1\", \"trainable\": true, \"dtype\": {\"class_name\": \"Policy\", \"config\": {\"name\": \"mixed_float16\"}, \"shared_object_id\": 4}}, \"name\": \"add_1\", \"inbound_nodes\": [[[\"max_pooling2d_1\", 0, 0, {}], [\"conv2d_2\", 0, 0, {}]]]}, {\"class_name\": \"Activation\", \"config\": {\"name\": \"activation_5\", \"trainable\": true, \"dtype\": {\"class_name\": \"Policy\", \"config\": {\"name\": \"mixed_float16\"}, \"shared_object_id\": 4}, \"activation\": \"relu\"}, \"name\": \"activation_5\", \"inbound_nodes\": [[[\"add_1\", 0, 0, {}]]]}, {\"class_name\": \"SeparableConv2D\", \"config\": {\"name\": \"separable_conv2d_4\", \"trainable\": true, \"dtype\": {\"class_name\": \"Policy\", \"config\": {\"name\": \"mixed_float16\"}, \"shared_object_id\": 4}, \"filters\": 256, \"kernel_size\": [3, 3], \"strides\": [1, 1], \"padding\": \"same\", \"data_format\": \"channels_last\", \"dilation_rate\": [1, 1], \"groups\": 1, \"activation\": \"linear\", \"use_bias\": true, \"kernel_initializer\": {\"class_name\": \"GlorotUniform\", \"config\": {\"seed\": null}}, \"bias_initializer\": {\"class_name\": \"Zeros\", \"config\": {}, \"shared_object_id\": 50}, \"kernel_regularizer\": {\"class_name\": \"L1L2\", \"config\": {\"l1\": 9.99999993922529e-09, \"l2\": 9.99999993922529e-09}}, \"bias_regularizer\": null, \"activity_regularizer\": null, \"kernel_constraint\": null, \"bias_constraint\": null, \"depth_multiplier\": 1, \"depthwise_initializer\": {\"class_name\": \"GlorotUniform\", \"config\": {\"seed\": null}}, \"pointwise_initializer\": {\"class_name\": \"GlorotUniform\", \"config\": {\"seed\": null}}, \"depthwise_regularizer\": null, \"pointwise_regularizer\": null, \"depthwise_constraint\": null, \"pointwise_constraint\": null}, \"name\": \"separable_conv2d_4\", \"inbound_nodes\": [[[\"activation_5\", 0, 0, {}]]]}, {\"class_name\": \"Activation\", \"config\": {\"name\": \"activation_6\", \"trainable\": true, \"dtype\": {\"class_name\": \"Policy\", \"config\": {\"name\": \"mixed_float16\"}, \"shared_object_id\": 4}, \"activation\": \"relu\"}, \"name\": \"activation_6\", \"inbound_nodes\": [[[\"separable_conv2d_4\", 0, 0, {}]]]}, {\"class_name\": \"SeparableConv2D\", \"config\": {\"name\": \"separable_conv2d_5\", \"trainable\": true, \"dtype\": {\"class_name\": \"Policy\", \"config\": {\"name\": \"mixed_float16\"}, \"shared_object_id\": 4}, \"filters\": 256, \"kernel_size\": [3, 3], \"strides\": [1, 1], \"padding\": \"same\", \"data_format\": \"channels_last\", \"dilation_rate\": [1, 1], \"groups\": 1, \"activation\": \"linear\", \"use_bias\": true, \"kernel_initializer\": {\"class_name\": \"GlorotUniform\", \"config\": {\"seed\": null}}, \"bias_initializer\": {\"class_name\": \"Zeros\", \"config\": {}, \"shared_object_id\": 57}, \"kernel_regularizer\": {\"class_name\": \"L1L2\", \"config\": {\"l1\": 9.99999993922529e-09, \"l2\": 9.99999993922529e-09}}, \"bias_regularizer\": null, \"activity_regularizer\": null, \"kernel_constraint\": null, \"bias_constraint\": null, \"depth_multiplier\": 1, \"depthwise_initializer\": {\"class_name\": \"GlorotUniform\", \"config\": {\"seed\": null}}, \"pointwise_initializer\": {\"class_name\": \"GlorotUniform\", \"config\": {\"seed\": null}}, \"depthwise_regularizer\": null, \"pointwise_regularizer\": null, \"depthwise_constraint\": null, \"pointwise_constraint\": null}, \"name\": \"separable_conv2d_5\", \"inbound_nodes\": [[[\"activation_6\", 0, 0, {}]]]}, {\"class_name\": \"MaxPooling2D\", \"config\": {\"name\": \"max_pooling2d_2\", \"trainable\": true, \"dtype\": {\"class_name\": \"Policy\", \"config\": {\"name\": \"mixed_float16\"}, \"shared_object_id\": 4}, \"pool_size\": [3, 3], \"padding\": \"same\", \"strides\": [2, 2], \"data_format\": \"channels_last\"}, \"name\": \"max_pooling2d_2\", \"inbound_nodes\": [[[\"separable_conv2d_5\", 0, 0, {}]]]}, {\"class_name\": \"Conv2D\", \"config\": {\"name\": \"conv2d_3\", \"trainable\": true, \"dtype\": {\"class_name\": \"Policy\", \"config\": {\"name\": \"mixed_float16\"}, \"shared_object_id\": 4}, \"filters\": 256, \"kernel_size\": [1, 1], \"strides\": [2, 2], \"padding\": \"same\", \"data_format\": \"channels_last\", \"dilation_rate\": [1, 1], \"groups\": 1, \"activation\": \"linear\", \"use_bias\": true, \"kernel_initializer\": {\"class_name\": \"GlorotUniform\", \"config\": {\"seed\": null}}, \"bias_initializer\": {\"class_name\": \"Zeros\", \"config\": {}}, \"kernel_regularizer\": {\"class_name\": \"L1L2\", \"config\": {\"l1\": 9.99999993922529e-09, \"l2\": 9.99999993922529e-09}}, \"bias_regularizer\": null, \"activity_regularizer\": null, \"kernel_constraint\": null, \"bias_constraint\": null}, \"name\": \"conv2d_3\", \"inbound_nodes\": [[[\"add_1\", 0, 0, {}]]]}, {\"class_name\": \"Add\", \"config\": {\"name\": \"sparse_repr\", \"trainable\": true, \"dtype\": {\"class_name\": \"Policy\", \"config\": {\"name\": \"mixed_float16\"}, \"shared_object_id\": 4}}, \"name\": \"sparse_repr\", \"inbound_nodes\": [[[\"max_pooling2d_2\", 0, 0, {}], [\"conv2d_3\", 0, 0, {}]]]}, {\"class_name\": \"Flatten\", \"config\": {\"name\": \"flatten\", \"trainable\": true, \"dtype\": {\"class_name\": \"Policy\", \"config\": {\"name\": \"mixed_float16\"}, \"shared_object_id\": 4}, \"data_format\": \"channels_last\"}, \"name\": \"flatten\", \"inbound_nodes\": [[[\"sparse_repr\", 0, 0, {}]]]}, {\"class_name\": \"Dense\", \"config\": {\"name\": \"dense\", \"trainable\": true, \"dtype\": {\"class_name\": \"Policy\", \"config\": {\"name\": \"mixed_float16\"}, \"shared_object_id\": 4}, \"units\": 1024, \"activation\": \"linear\", \"use_bias\": true, \"kernel_initializer\": {\"class_name\": \"GlorotUniform\", \"config\": {\"seed\": null}}, \"bias_initializer\": {\"class_name\": \"Zeros\", \"config\": {}}, \"kernel_regularizer\": null, \"bias_regularizer\": null, \"activity_regularizer\": null, \"kernel_constraint\": null, \"bias_constraint\": null}, \"name\": \"dense\", \"inbound_nodes\": [[[\"flatten\", 0, 0, {}]]]}, {\"class_name\": \"Reshape\", \"config\": {\"name\": \"reshape\", \"trainable\": true, \"dtype\": {\"class_name\": \"Policy\", \"config\": {\"name\": \"mixed_float16\"}, \"shared_object_id\": 4}, \"target_shape\": [32, 32, 1]}, \"name\": \"reshape\", \"inbound_nodes\": [[[\"dense\", 0, 0, {}]]]}, {\"class_name\": \"Activation\", \"config\": {\"name\": \"activation_7\", \"trainable\": true, \"dtype\": {\"class_name\": \"Policy\", \"config\": {\"name\": \"mixed_float16\"}, \"shared_object_id\": 4}, \"activation\": \"relu\"}, \"name\": \"activation_7\", \"inbound_nodes\": [[[\"reshape\", 0, 0, {}]]]}, {\"class_name\": \"Conv2DTranspose\", \"config\": {\"name\": \"conv2d_transpose\", \"trainable\": true, \"dtype\": {\"class_name\": \"Policy\", \"config\": {\"name\": \"mixed_float16\"}, \"shared_object_id\": 4}, \"filters\": 256, \"kernel_size\": [3, 3], \"strides\": [1, 1], \"padding\": \"same\", \"data_format\": \"channels_last\", \"dilation_rate\": [1, 1], \"groups\": 1, \"activation\": \"linear\", \"use_bias\": true, \"kernel_initializer\": {\"class_name\": \"GlorotUniform\", \"config\": {\"seed\": null}}, \"bias_initializer\": {\"class_name\": \"Zeros\", \"config\": {}}, \"kernel_regularizer\": {\"class_name\": \"L1L2\", \"config\": {\"l1\": 9.99999993922529e-09, \"l2\": 9.99999993922529e-09}}, \"bias_regularizer\": null, \"activity_regularizer\": null, \"kernel_constraint\": null, \"bias_constraint\": null, \"output_padding\": null}, \"name\": \"conv2d_transpose\", \"inbound_nodes\": [[[\"activation_7\", 0, 0, {}]]]}, {\"class_name\": \"Activation\", \"config\": {\"name\": \"activation_8\", \"trainable\": true, \"dtype\": {\"class_name\": \"Policy\", \"config\": {\"name\": \"mixed_float16\"}, \"shared_object_id\": 4}, \"activation\": \"relu\"}, \"name\": \"activation_8\", \"inbound_nodes\": [[[\"conv2d_transpose\", 0, 0, {}]]]}, {\"class_name\": \"Conv2DTranspose\", \"config\": {\"name\": \"conv2d_transpose_1\", \"trainable\": true, \"dtype\": {\"class_name\": \"Policy\", \"config\": {\"name\": \"mixed_float16\"}, \"shared_object_id\": 4}, \"filters\": 256, \"kernel_size\": [3, 3], \"strides\": [1, 1], \"padding\": \"same\", \"data_format\": \"channels_last\", \"dilation_rate\": [1, 1], \"groups\": 1, \"activation\": \"linear\", \"use_bias\": true, \"kernel_initializer\": {\"class_name\": \"GlorotUniform\", \"config\": {\"seed\": null}}, \"bias_initializer\": {\"class_name\": \"Zeros\", \"config\": {}}, \"kernel_regularizer\": {\"class_name\": \"L1L2\", \"config\": {\"l1\": 9.99999993922529e-09, \"l2\": 9.99999993922529e-09}}, \"bias_regularizer\": null, \"activity_regularizer\": null, \"kernel_constraint\": null, \"bias_constraint\": null, \"output_padding\": null}, \"name\": \"conv2d_transpose_1\", \"inbound_nodes\": [[[\"activation_8\", 0, 0, {}]]]}, {\"class_name\": \"UpSampling2D\", \"config\": {\"name\": \"up_sampling2d_1\", \"trainable\": true, \"dtype\": {\"class_name\": \"Policy\", \"config\": {\"name\": \"mixed_float16\"}, \"shared_object_id\": 4}, \"size\": [2, 2], \"data_format\": \"channels_last\", \"interpolation\": \"nearest\"}, \"name\": \"up_sampling2d_1\", \"inbound_nodes\": [[[\"reshape\", 0, 0, {}]]]}, {\"class_name\": \"UpSampling2D\", \"config\": {\"name\": \"up_sampling2d\", \"trainable\": true, \"dtype\": {\"class_name\": \"Policy\", \"config\": {\"name\": \"mixed_float16\"}, \"shared_object_id\": 4}, \"size\": [2, 2], \"data_format\": \"channels_last\", \"interpolation\": \"nearest\"}, \"name\": \"up_sampling2d\", \"inbound_nodes\": [[[\"conv2d_transpose_1\", 0, 0, {}]]]}, {\"class_name\": \"Conv2D\", \"config\": {\"name\": \"conv2d_4\", \"trainable\": true, \"dtype\": {\"class_name\": \"Policy\", \"config\": {\"name\": \"mixed_float16\"}, \"shared_object_id\": 4}, \"filters\": 256, \"kernel_size\": [1, 1], \"strides\": [1, 1], \"padding\": \"same\", \"data_format\": \"channels_last\", \"dilation_rate\": [1, 1], \"groups\": 1, \"activation\": \"linear\", \"use_bias\": true, \"kernel_initializer\": {\"class_name\": \"GlorotUniform\", \"config\": {\"seed\": null}}, \"bias_initializer\": {\"class_name\": \"Zeros\", \"config\": {}}, \"kernel_regularizer\": {\"class_name\": \"L1L2\", \"config\": {\"l1\": 9.99999993922529e-09, \"l2\": 9.99999993922529e-09}}, \"bias_regularizer\": null, \"activity_regularizer\": null, \"kernel_constraint\": null, \"bias_constraint\": null}, \"name\": \"conv2d_4\", \"inbound_nodes\": [[[\"up_sampling2d_1\", 0, 0, {}]]]}, {\"class_name\": \"Add\", \"config\": {\"name\": \"add_2\", \"trainable\": true, \"dtype\": {\"class_name\": \"Policy\", \"config\": {\"name\": \"mixed_float16\"}, \"shared_object_id\": 4}}, \"name\": \"add_2\", \"inbound_nodes\": [[[\"up_sampling2d\", 0, 0, {}], [\"conv2d_4\", 0, 0, {}]]]}, {\"class_name\": \"Activation\", \"config\": {\"name\": \"activation_9\", \"trainable\": true, \"dtype\": {\"class_name\": \"Policy\", \"config\": {\"name\": \"mixed_float16\"}, \"shared_object_id\": 4}, \"activation\": \"relu\"}, \"name\": \"activation_9\", \"inbound_nodes\": [[[\"add_2\", 0, 0, {}]]]}, {\"class_name\": \"Conv2DTranspose\", \"config\": {\"name\": \"conv2d_transpose_2\", \"trainable\": true, \"dtype\": {\"class_name\": \"Policy\", \"config\": {\"name\": \"mixed_float16\"}, \"shared_object_id\": 4}, \"filters\": 128, \"kernel_size\": [3, 3], \"strides\": [1, 1], \"padding\": \"same\", \"data_format\": \"channels_last\", \"dilation_rate\": [1, 1], \"groups\": 1, \"activation\": \"linear\", \"use_bias\": true, \"kernel_initializer\": {\"class_name\": \"GlorotUniform\", \"config\": {\"seed\": null}}, \"bias_initializer\": {\"class_name\": \"Zeros\", \"config\": {}}, \"kernel_regularizer\": {\"class_name\": \"L1L2\", \"config\": {\"l1\": 9.99999993922529e-09, \"l2\": 9.99999993922529e-09}}, \"bias_regularizer\": null, \"activity_regularizer\": null, \"kernel_constraint\": null, \"bias_constraint\": null, \"output_padding\": null}, \"name\": \"conv2d_transpose_2\", \"inbound_nodes\": [[[\"activation_9\", 0, 0, {}]]]}, {\"class_name\": \"Activation\", \"config\": {\"name\": \"activation_10\", \"trainable\": true, \"dtype\": {\"class_name\": \"Policy\", \"config\": {\"name\": \"mixed_float16\"}, \"shared_object_id\": 4}, \"activation\": \"relu\"}, \"name\": \"activation_10\", \"inbound_nodes\": [[[\"conv2d_transpose_2\", 0, 0, {}]]]}, {\"class_name\": \"Conv2DTranspose\", \"config\": {\"name\": \"conv2d_transpose_3\", \"trainable\": true, \"dtype\": {\"class_name\": \"Policy\", \"config\": {\"name\": \"mixed_float16\"}, \"shared_object_id\": 4}, \"filters\": 128, \"kernel_size\": [3, 3], \"strides\": [1, 1], \"padding\": \"same\", \"data_format\": \"channels_last\", \"dilation_rate\": [1, 1], \"groups\": 1, \"activation\": \"linear\", \"use_bias\": true, \"kernel_initializer\": {\"class_name\": \"GlorotUniform\", \"config\": {\"seed\": null}}, \"bias_initializer\": {\"class_name\": \"Zeros\", \"config\": {}}, \"kernel_regularizer\": {\"class_name\": \"L1L2\", \"config\": {\"l1\": 9.99999993922529e-09, \"l2\": 9.99999993922529e-09}}, \"bias_regularizer\": null, \"activity_regularizer\": null, \"kernel_constraint\": null, \"bias_constraint\": null, \"output_padding\": null}, \"name\": \"conv2d_transpose_3\", \"inbound_nodes\": [[[\"activation_10\", 0, 0, {}]]]}, {\"class_name\": \"UpSampling2D\", \"config\": {\"name\": \"up_sampling2d_3\", \"trainable\": true, \"dtype\": {\"class_name\": \"Policy\", \"config\": {\"name\": \"mixed_float16\"}, \"shared_object_id\": 4}, \"size\": [2, 2], \"data_format\": \"channels_last\", \"interpolation\": \"nearest\"}, \"name\": \"up_sampling2d_3\", \"inbound_nodes\": [[[\"add_2\", 0, 0, {}]]]}, {\"class_name\": \"UpSampling2D\", \"config\": {\"name\": \"up_sampling2d_2\", \"trainable\": true, \"dtype\": {\"class_name\": \"Policy\", \"config\": {\"name\": \"mixed_float16\"}, \"shared_object_id\": 4}, \"size\": [2, 2], \"data_format\": \"channels_last\", \"interpolation\": \"nearest\"}, \"name\": \"up_sampling2d_2\", \"inbound_nodes\": [[[\"conv2d_transpose_3\", 0, 0, {}]]]}, {\"class_name\": \"Conv2D\", \"config\": {\"name\": \"conv2d_5\", \"trainable\": true, \"dtype\": {\"class_name\": \"Policy\", \"config\": {\"name\": \"mixed_float16\"}, \"shared_object_id\": 4}, \"filters\": 128, \"kernel_size\": [1, 1], \"strides\": [1, 1], \"padding\": \"same\", \"data_format\": \"channels_last\", \"dilation_rate\": [1, 1], \"groups\": 1, \"activation\": \"linear\", \"use_bias\": true, \"kernel_initializer\": {\"class_name\": \"GlorotUniform\", \"config\": {\"seed\": null}}, \"bias_initializer\": {\"class_name\": \"Zeros\", \"config\": {}}, \"kernel_regularizer\": {\"class_name\": \"L1L2\", \"config\": {\"l1\": 9.99999993922529e-09, \"l2\": 9.99999993922529e-09}}, \"bias_regularizer\": null, \"activity_regularizer\": null, \"kernel_constraint\": null, \"bias_constraint\": null}, \"name\": \"conv2d_5\", \"inbound_nodes\": [[[\"up_sampling2d_3\", 0, 0, {}]]]}, {\"class_name\": \"Add\", \"config\": {\"name\": \"add_3\", \"trainable\": true, \"dtype\": {\"class_name\": \"Policy\", \"config\": {\"name\": \"mixed_float16\"}, \"shared_object_id\": 4}}, \"name\": \"add_3\", \"inbound_nodes\": [[[\"up_sampling2d_2\", 0, 0, {}], [\"conv2d_5\", 0, 0, {}]]]}, {\"class_name\": \"Activation\", \"config\": {\"name\": \"activation_11\", \"trainable\": true, \"dtype\": {\"class_name\": \"Policy\", \"config\": {\"name\": \"mixed_float16\"}, \"shared_object_id\": 4}, \"activation\": \"relu\"}, \"name\": \"activation_11\", \"inbound_nodes\": [[[\"add_3\", 0, 0, {}]]]}, {\"class_name\": \"Conv2DTranspose\", \"config\": {\"name\": \"conv2d_transpose_4\", \"trainable\": true, \"dtype\": {\"class_name\": \"Policy\", \"config\": {\"name\": \"mixed_float16\"}, \"shared_object_id\": 4}, \"filters\": 64, \"kernel_size\": [3, 3], \"strides\": [1, 1], \"padding\": \"same\", \"data_format\": \"channels_last\", \"dilation_rate\": [1, 1], \"groups\": 1, \"activation\": \"linear\", \"use_bias\": true, \"kernel_initializer\": {\"class_name\": \"GlorotUniform\", \"config\": {\"seed\": null}}, \"bias_initializer\": {\"class_name\": \"Zeros\", \"config\": {}}, \"kernel_regularizer\": {\"class_name\": \"L1L2\", \"config\": {\"l1\": 9.99999993922529e-09, \"l2\": 9.99999993922529e-09}}, \"bias_regularizer\": null, \"activity_regularizer\": null, \"kernel_constraint\": null, \"bias_constraint\": null, \"output_padding\": null}, \"name\": \"conv2d_transpose_4\", \"inbound_nodes\": [[[\"activation_11\", 0, 0, {}]]]}, {\"class_name\": \"Activation\", \"config\": {\"name\": \"activation_12\", \"trainable\": true, \"dtype\": {\"class_name\": \"Policy\", \"config\": {\"name\": \"mixed_float16\"}, \"shared_object_id\": 4}, \"activation\": \"relu\"}, \"name\": \"activation_12\", \"inbound_nodes\": [[[\"conv2d_transpose_4\", 0, 0, {}]]]}, {\"class_name\": \"Conv2DTranspose\", \"config\": {\"name\": \"conv2d_transpose_5\", \"trainable\": true, \"dtype\": {\"class_name\": \"Policy\", \"config\": {\"name\": \"mixed_float16\"}, \"shared_object_id\": 4}, \"filters\": 64, \"kernel_size\": [3, 3], \"strides\": [1, 1], \"padding\": \"same\", \"data_format\": \"channels_last\", \"dilation_rate\": [1, 1], \"groups\": 1, \"activation\": \"linear\", \"use_bias\": true, \"kernel_initializer\": {\"class_name\": \"GlorotUniform\", \"config\": {\"seed\": null}}, \"bias_initializer\": {\"class_name\": \"Zeros\", \"config\": {}}, \"kernel_regularizer\": {\"class_name\": \"L1L2\", \"config\": {\"l1\": 9.99999993922529e-09, \"l2\": 9.99999993922529e-09}}, \"bias_regularizer\": null, \"activity_regularizer\": null, \"kernel_constraint\": null, \"bias_constraint\": null, \"output_padding\": null}, \"name\": \"conv2d_transpose_5\", \"inbound_nodes\": [[[\"activation_12\", 0, 0, {}]]]}, {\"class_name\": \"UpSampling2D\", \"config\": {\"name\": \"up_sampling2d_5\", \"trainable\": true, \"dtype\": {\"class_name\": \"Policy\", \"config\": {\"name\": \"mixed_float16\"}, \"shared_object_id\": 4}, \"size\": [2, 2], \"data_format\": \"channels_last\", \"interpolation\": \"nearest\"}, \"name\": \"up_sampling2d_5\", \"inbound_nodes\": [[[\"add_3\", 0, 0, {}]]]}, {\"class_name\": \"UpSampling2D\", \"config\": {\"name\": \"up_sampling2d_4\", \"trainable\": true, \"dtype\": {\"class_name\": \"Policy\", \"config\": {\"name\": \"mixed_float16\"}, \"shared_object_id\": 4}, \"size\": [2, 2], \"data_format\": \"channels_last\", \"interpolation\": \"nearest\"}, \"name\": \"up_sampling2d_4\", \"inbound_nodes\": [[[\"conv2d_transpose_5\", 0, 0, {}]]]}, {\"class_name\": \"Conv2D\", \"config\": {\"name\": \"conv2d_6\", \"trainable\": true, \"dtype\": {\"class_name\": \"Policy\", \"config\": {\"name\": \"mixed_float16\"}, \"shared_object_id\": 4}, \"filters\": 64, \"kernel_size\": [1, 1], \"strides\": [1, 1], \"padding\": \"same\", \"data_format\": \"channels_last\", \"dilation_rate\": [1, 1], \"groups\": 1, \"activation\": \"linear\", \"use_bias\": true, \"kernel_initializer\": {\"class_name\": \"GlorotUniform\", \"config\": {\"seed\": null}}, \"bias_initializer\": {\"class_name\": \"Zeros\", \"config\": {}}, \"kernel_regularizer\": {\"class_name\": \"L1L2\", \"config\": {\"l1\": 9.99999993922529e-09, \"l2\": 9.99999993922529e-09}}, \"bias_regularizer\": null, \"activity_regularizer\": null, \"kernel_constraint\": null, \"bias_constraint\": null}, \"name\": \"conv2d_6\", \"inbound_nodes\": [[[\"up_sampling2d_5\", 0, 0, {}]]]}, {\"class_name\": \"Add\", \"config\": {\"name\": \"add_4\", \"trainable\": true, \"dtype\": {\"class_name\": \"Policy\", \"config\": {\"name\": \"mixed_float16\"}, \"shared_object_id\": 4}}, \"name\": \"add_4\", \"inbound_nodes\": [[[\"up_sampling2d_4\", 0, 0, {}], [\"conv2d_6\", 0, 0, {}]]]}, {\"class_name\": \"Conv2D\", \"config\": {\"name\": \"conv2d_7\", \"trainable\": true, \"dtype\": {\"class_name\": \"Policy\", \"config\": {\"name\": \"mixed_float16\"}, \"shared_object_id\": 4}, \"filters\": 3, \"kernel_size\": [3, 3], \"strides\": [1, 1], \"padding\": \"same\", \"data_format\": \"channels_last\", \"dilation_rate\": [1, 1], \"groups\": 1, \"activation\": \"linear\", \"use_bias\": true, \"kernel_initializer\": {\"class_name\": \"GlorotUniform\", \"config\": {\"seed\": null}}, \"bias_initializer\": {\"class_name\": \"Zeros\", \"config\": {}}, \"kernel_regularizer\": {\"class_name\": \"L1L2\", \"config\": {\"l1\": 9.99999993922529e-09, \"l2\": 9.99999993922529e-09}}, \"bias_regularizer\": null, \"activity_regularizer\": null, \"kernel_constraint\": null, \"bias_constraint\": null}, \"name\": \"conv2d_7\", \"inbound_nodes\": [[[\"add_4\", 0, 0, {}]]]}, {\"class_name\": \"Activation\", \"config\": {\"name\": \"activation_13\", \"trainable\": true, \"dtype\": {\"class_name\": \"Policy\", \"config\": {\"name\": \"mixed_float16\"}, \"shared_object_id\": 4}, \"activation\": \"relu\"}, \"name\": \"activation_13\", \"inbound_nodes\": [[[\"conv2d_7\", 0, 0, {}]]]}], \"input_layers\": [[\"input_1\", 0, 0]], \"output_layers\": [[\"activation_13\", 0, 0]]}, \"keras_version\": \"2.7.0\", \"backend\": \"tensorflow\"}'\n",
      "epoch_loss inf\n",
      "epoch_accuracy 0.50729334\n",
      "epoch_loss inf\n",
      "epoch_accuracy 0.6643632\n",
      "epoch_loss inf\n",
      "epoch_accuracy 0.69981694\n",
      "epoch_loss inf\n",
      "epoch_accuracy 0.71190286\n",
      "epoch_loss inf\n",
      "epoch_accuracy 0.71979016\n",
      "epoch_loss inf\n",
      "epoch_accuracy 0.7252566\n",
      "epoch_loss inf\n",
      "epoch_accuracy 0.7288329\n",
      "epoch_loss inf\n",
      "epoch_accuracy 0.73203605\n",
      "epoch_loss inf\n",
      "epoch_accuracy 0.7339629\n",
      "epoch_loss inf\n",
      "epoch_accuracy 0.73689055\n",
      "epoch_loss inf\n",
      "epoch_accuracy 0.73789054\n",
      "epoch_loss inf\n",
      "epoch_accuracy 0.73902196\n",
      "epoch_loss inf\n",
      "epoch_accuracy 0.7396281\n",
      "epoch_loss inf\n",
      "epoch_accuracy 0.7400977\n",
      "epoch_loss inf\n",
      "epoch_accuracy 0.741828\n"
     ]
    }
   ],
   "source": [
    "summary = tf.data.TFRecordDataset(events_files[4])\n",
    "for serialized_example in summary:\n",
    "    event = event_pb2.Event.FromString(serialized_example.numpy())\n",
    "    for value in event.summary.value:\n",
    "        t = tf.make_ndarray(value.tensor)\n",
    "        print(value.tag, t)"
   ]
  },
  {
   "cell_type": "markdown",
   "metadata": {},
   "source": [
    "### Text"
   ]
  },
  {
   "cell_type": "markdown",
   "metadata": {},
   "source": [
    "Identifiable par value.tag = Description\n",
    "\n",
    "Action : copier coller"
   ]
  },
  {
   "cell_type": "code",
   "execution_count": 196,
   "metadata": {},
   "outputs": [
    {
     "name": "stdout",
     "output_type": "stream",
     "text": [
      "Description commit b'be58d26 batchnorm tests, 64,128,256 sans batchnorm'\n",
      "b'be58d26 batchnorm tests, 64,128,256 sans batchnorm'\n"
     ]
    }
   ],
   "source": [
    "summary = tf.data.TFRecordDataset(events_files[3])\n",
    "for serialized_example in summary:\n",
    "    event = event_pb2.Event.FromString(serialized_example.numpy())\n",
    "    for value in event.summary.value:\n",
    "        t = tf.make_ndarray(value.tensor)\n",
    "        print(value.tag, str(t))\n",
    "        v = str(t)"
   ]
  },
  {
   "cell_type": "markdown",
   "metadata": {},
   "source": [
    "### HParams"
   ]
  },
  {
   "cell_type": "markdown",
   "metadata": {},
   "source": [
    "Structure détectable lorsque value.tag contient _hparams_ :\n",
    "- partie uniquement structure contient experiment\n",
    "- partie paramètres choisis contient session_start_info (x2)\n",
    "\n",
    "Action à effectuer: copier coller les fichiers directement"
   ]
  },
  {
   "cell_type": "code",
   "execution_count": 115,
   "metadata": {},
   "outputs": [
    {
     "name": "stdout",
     "output_type": "stream",
     "text": [
      "_hparams_/experiment []\n",
      "experiment {\n",
      "  hparam_infos {\n",
      "    name: \"batch_size\"\n",
      "    type: DATA_TYPE_FLOAT64\n",
      "    domain_interval {\n",
      "      min_value: 1.0\n",
      "      max_value: 512.0\n",
      "    }\n",
      "  }\n",
      "  hparam_infos {\n",
      "    name: \"learning_rate_1e-\"\n",
      "    type: DATA_TYPE_FLOAT64\n",
      "    domain_interval {\n",
      "      max_value: 9.0\n",
      "    }\n",
      "  }\n",
      "  hparam_infos {\n",
      "    name: \"filter1_2**\"\n",
      "    type: DATA_TYPE_FLOAT64\n",
      "    domain_interval {\n",
      "      max_value: 20.0\n",
      "    }\n",
      "  }\n",
      "  hparam_infos {\n",
      "    name: \"filter2_2**\"\n",
      "    type: DATA_TYPE_FLOAT64\n",
      "    domain_interval {\n",
      "      max_value: 20.0\n",
      "    }\n",
      "  }\n",
      "  hparam_infos {\n",
      "    name: \"filter3_2**\"\n",
      "    type: DATA_TYPE_FLOAT64\n",
      "    domain_interval {\n",
      "      max_value: 20.0\n",
      "    }\n",
      "  }\n",
      "  hparam_infos {\n",
      "    name: \"filter4_2**\"\n",
      "    type: DATA_TYPE_FLOAT64\n",
      "    domain_interval {\n",
      "      max_value: 20.0\n",
      "    }\n",
      "  }\n",
      "  hparam_infos {\n",
      "    name: \"filter5_2**\"\n",
      "    type: DATA_TYPE_FLOAT64\n",
      "    domain_interval {\n",
      "      max_value: 20.0\n",
      "    }\n",
      "  }\n",
      "  hparam_infos {\n",
      "    name: \"filter6_2**\"\n",
      "    type: DATA_TYPE_FLOAT64\n",
      "    domain_interval {\n",
      "      max_value: 20.0\n",
      "    }\n",
      "  }\n",
      "  hparam_infos {\n",
      "    name: \"filter7_2**\"\n",
      "    type: DATA_TYPE_FLOAT64\n",
      "    domain_interval {\n",
      "      max_value: 20.0\n",
      "    }\n",
      "  }\n",
      "  hparam_infos {\n",
      "    name: \"middle_filter_2**\"\n",
      "    type: DATA_TYPE_FLOAT64\n",
      "    domain_interval {\n",
      "      max_value: 20.0\n",
      "    }\n",
      "  }\n",
      "  hparam_infos {\n",
      "    name: \"u_skip\"\n",
      "    type: DATA_TYPE_BOOL\n",
      "    domain_discrete {\n",
      "      values {\n",
      "        bool_value: false\n",
      "      }\n",
      "      values {\n",
      "        bool_value: true\n",
      "      }\n",
      "    }\n",
      "  }\n",
      "  hparam_infos {\n",
      "    name: \"batch_norm\"\n",
      "    type: DATA_TYPE_BOOL\n",
      "    domain_discrete {\n",
      "      values {\n",
      "        bool_value: false\n",
      "      }\n",
      "      values {\n",
      "        bool_value: true\n",
      "      }\n",
      "    }\n",
      "  }\n",
      "  hparam_infos {\n",
      "    name: \"patience\"\n",
      "    type: DATA_TYPE_FLOAT64\n",
      "    domain_interval {\n",
      "      min_value: 1.0\n",
      "      max_value: 10000.0\n",
      "    }\n",
      "  }\n",
      "  hparam_infos {\n",
      "    name: \"min_delta\"\n",
      "    type: DATA_TYPE_FLOAT64\n",
      "    domain_interval {\n",
      "      min_value: 1e-07\n",
      "      max_value: 0.1\n",
      "    }\n",
      "  }\n",
      "  hparam_infos {\n",
      "    name: \"activation\"\n",
      "    type: DATA_TYPE_STRING\n",
      "    domain_discrete {\n",
      "      values {\n",
      "        string_value: \"elu\"\n",
      "      }\n",
      "      values {\n",
      "        string_value: \"leaky_relu\"\n",
      "      }\n",
      "      values {\n",
      "        string_value: \"prelu\"\n",
      "      }\n",
      "      values {\n",
      "        string_value: \"relu\"\n",
      "      }\n",
      "      values {\n",
      "        string_value: \"selu\"\n",
      "      }\n",
      "    }\n",
      "  }\n",
      "  hparam_infos {\n",
      "    name: \"l1_reg_1e-\"\n",
      "    type: DATA_TYPE_FLOAT64\n",
      "    domain_interval {\n",
      "      max_value: 8.0\n",
      "    }\n",
      "  }\n",
      "  hparam_infos {\n",
      "    name: \"l2_reg_1e-\"\n",
      "    type: DATA_TYPE_FLOAT64\n",
      "    domain_interval {\n",
      "      max_value: 8.0\n",
      "    }\n",
      "  }\n",
      "  metric_infos {\n",
      "    name {\n",
      "      tag: \"final_accuracy\"\n",
      "    }\n",
      "    display_name: \"final_accuracy\"\n",
      "  }\n",
      "}\n",
      "\n"
     ]
    }
   ],
   "source": [
    "\n",
    "summary = tf.data.TFRecordDataset(events_files[0])\n",
    "for serialized_example in summary:\n",
    "    event = event_pb2.Event.FromString(serialized_example.numpy())\n",
    "    for value in event.summary.value:\n",
    "        t = tf.make_ndarray(value.tensor)\n",
    "        print(value.tag, t)\n",
    "        print(plugin_data_pb2.HParamsPluginData.FromString(value.metadata.plugin_data.content))\n",
    "        v1 = plugin_data_pb2.HParamsPluginData.FromString(value.metadata.plugin_data.content) \n",
    "        v = v1 if str(v1) != \"\" else v"
   ]
  },
  {
   "cell_type": "code",
   "execution_count": 116,
   "metadata": {},
   "outputs": [
    {
     "name": "stdout",
     "output_type": "stream",
     "text": [
      "<class 'tensorboard.plugins.hparams.plugin_data_pb2.HParamsPluginData'>\n"
     ]
    }
   ],
   "source": [
    "print(type(v))"
   ]
  },
  {
   "cell_type": "code",
   "execution_count": 183,
   "metadata": {},
   "outputs": [
    {
     "name": "stdout",
     "output_type": "stream",
     "text": [
      "[name: \"batch_size\"\n",
      "type: DATA_TYPE_FLOAT64\n",
      "domain_interval {\n",
      "  min_value: 1.0\n",
      "  max_value: 512.0\n",
      "}\n",
      ", name: \"learning_rate_1e-\"\n",
      "type: DATA_TYPE_FLOAT64\n",
      "domain_interval {\n",
      "  max_value: 9.0\n",
      "}\n",
      ", name: \"filter1_2**\"\n",
      "type: DATA_TYPE_FLOAT64\n",
      "domain_interval {\n",
      "  max_value: 20.0\n",
      "}\n",
      ", name: \"filter2_2**\"\n",
      "type: DATA_TYPE_FLOAT64\n",
      "domain_interval {\n",
      "  max_value: 20.0\n",
      "}\n",
      ", name: \"filter3_2**\"\n",
      "type: DATA_TYPE_FLOAT64\n",
      "domain_interval {\n",
      "  max_value: 20.0\n",
      "}\n",
      ", name: \"filter4_2**\"\n",
      "type: DATA_TYPE_FLOAT64\n",
      "domain_interval {\n",
      "  max_value: 20.0\n",
      "}\n",
      ", name: \"filter5_2**\"\n",
      "type: DATA_TYPE_FLOAT64\n",
      "domain_interval {\n",
      "  max_value: 20.0\n",
      "}\n",
      ", name: \"filter6_2**\"\n",
      "type: DATA_TYPE_FLOAT64\n",
      "domain_interval {\n",
      "  max_value: 20.0\n",
      "}\n",
      ", name: \"filter7_2**\"\n",
      "type: DATA_TYPE_FLOAT64\n",
      "domain_interval {\n",
      "  max_value: 20.0\n",
      "}\n",
      ", name: \"middle_filter_2**\"\n",
      "type: DATA_TYPE_FLOAT64\n",
      "domain_interval {\n",
      "  max_value: 20.0\n",
      "}\n",
      ", name: \"u_skip\"\n",
      "type: DATA_TYPE_BOOL\n",
      "domain_discrete {\n",
      "  values {\n",
      "    bool_value: false\n",
      "  }\n",
      "  values {\n",
      "    bool_value: true\n",
      "  }\n",
      "}\n",
      ", name: \"batch_norm\"\n",
      "type: DATA_TYPE_BOOL\n",
      "domain_discrete {\n",
      "  values {\n",
      "    bool_value: false\n",
      "  }\n",
      "  values {\n",
      "    bool_value: true\n",
      "  }\n",
      "}\n",
      ", name: \"patience\"\n",
      "type: DATA_TYPE_FLOAT64\n",
      "domain_interval {\n",
      "  min_value: 1.0\n",
      "  max_value: 10000.0\n",
      "}\n",
      ", name: \"min_delta\"\n",
      "type: DATA_TYPE_FLOAT64\n",
      "domain_interval {\n",
      "  min_value: 1e-07\n",
      "  max_value: 0.1\n",
      "}\n",
      ", name: \"activation\"\n",
      "type: DATA_TYPE_STRING\n",
      "domain_discrete {\n",
      "  values {\n",
      "    string_value: \"elu\"\n",
      "  }\n",
      "  values {\n",
      "    string_value: \"leaky_relu\"\n",
      "  }\n",
      "  values {\n",
      "    string_value: \"prelu\"\n",
      "  }\n",
      "  values {\n",
      "    string_value: \"relu\"\n",
      "  }\n",
      "  values {\n",
      "    string_value: \"selu\"\n",
      "  }\n",
      "}\n",
      ", name: \"l1_reg_1e-\"\n",
      "type: DATA_TYPE_FLOAT64\n",
      "domain_interval {\n",
      "  max_value: 8.0\n",
      "}\n",
      ", name: \"l2_reg_1e-\"\n",
      "type: DATA_TYPE_FLOAT64\n",
      "domain_interval {\n",
      "  max_value: 8.0\n",
      "}\n",
      "]\n"
     ]
    }
   ],
   "source": [
    "values = [v.experiment.hparam_infos[i] for i in range(len(v.experiment.hparam_infos))]\n",
    "print((values))"
   ]
  },
  {
   "cell_type": "code",
   "execution_count": 126,
   "metadata": {},
   "outputs": [
    {
     "ename": "IndexError",
     "evalue": "list index out of range",
     "output_type": "error",
     "traceback": [
      "\u001b[1;31m---------------------------------------------------------------------------\u001b[0m",
      "\u001b[1;31mIndexError\u001b[0m                                Traceback (most recent call last)",
      "\u001b[1;32m<ipython-input-126-236edaafb48c>\u001b[0m in \u001b[0;36m<module>\u001b[1;34m\u001b[0m\n\u001b[1;32m----> 1\u001b[1;33m \u001b[0mprint\u001b[0m\u001b[1;33m(\u001b[0m\u001b[1;33m(\u001b[0m\u001b[0mlist\u001b[0m\u001b[1;33m(\u001b[0m\u001b[0mv\u001b[0m\u001b[1;33m.\u001b[0m\u001b[0msession_start_info\u001b[0m\u001b[1;33m.\u001b[0m\u001b[0mhparams\u001b[0m\u001b[1;33m.\u001b[0m\u001b[0mitems\u001b[0m\u001b[1;33m(\u001b[0m\u001b[1;33m)\u001b[0m\u001b[1;33m)\u001b[0m\u001b[1;33m[\u001b[0m\u001b[1;36m0\u001b[0m\u001b[1;33m]\u001b[0m\u001b[1;33m[\u001b[0m\u001b[1;36m1\u001b[0m\u001b[1;33m]\u001b[0m\u001b[1;33m)\u001b[0m\u001b[1;33m.\u001b[0m\u001b[0mitems\u001b[0m\u001b[1;33m(\u001b[0m\u001b[1;33m)\u001b[0m  \u001b[1;33m)\u001b[0m\u001b[1;33m\u001b[0m\u001b[1;33m\u001b[0m\u001b[0m\n\u001b[0m",
      "\u001b[1;31mIndexError\u001b[0m: list index out of range"
     ]
    }
   ],
   "source": [
    "print((list(v.session_start_info.hparams.items())[0][1]).items()  )"
   ]
  },
  {
   "cell_type": "code",
   "execution_count": null,
   "metadata": {},
   "outputs": [],
   "source": []
  }
 ],
 "metadata": {
  "interpreter": {
   "hash": "dac494b5a646e4864a42364743232279aabdb40846e1ef73ed5e92c4b5911599"
  },
  "kernelspec": {
   "display_name": "Python 3.8.8 64-bit ('base': conda)",
   "language": "python",
   "name": "python3"
  },
  "language_info": {
   "codemirror_mode": {
    "name": "ipython",
    "version": 3
   },
   "file_extension": ".py",
   "mimetype": "text/x-python",
   "name": "python",
   "nbconvert_exporter": "python",
   "pygments_lexer": "ipython3",
   "version": "3.8.8"
  },
  "orig_nbformat": 4
 },
 "nbformat": 4,
 "nbformat_minor": 2
}
